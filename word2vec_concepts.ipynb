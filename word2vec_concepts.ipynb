{
  "nbformat": 4,
  "nbformat_minor": 0,
  "metadata": {
    "colab": {
      "name": "word2vec_concepts",
      "provenance": []
    },
    "kernelspec": {
      "name": "python3",
      "display_name": "Python 3"
    },
    "language_info": {
      "name": "python"
    }
  },
  "cells": [
    {
      "cell_type": "code",
      "execution_count": null,
      "metadata": {
        "id": "AxTGystePX4v"
      },
      "outputs": [],
      "source": [
        "import gzip\n",
        "import gensim \n",
        "import logging"
      ]
    },
    {
      "cell_type": "code",
      "source": [
        "import gensim.downloader as api"
      ],
      "metadata": {
        "id": "8iASjVXkPmg5"
      },
      "execution_count": null,
      "outputs": []
    },
    {
      "cell_type": "code",
      "source": [
        "info = api.info()  # show info about available models/datasets\n",
        "model = api.load(\"glove-twitter-25\")  # download the model and return as object ready for use"
      ],
      "metadata": {
        "colab": {
          "base_uri": "https://localhost:8080/"
        },
        "id": "ZobOvSivPoTJ",
        "outputId": "caed40ef-d373-4b2b-ffbb-2b45402df3db"
      },
      "execution_count": null,
      "outputs": [
        {
          "output_type": "stream",
          "name": "stdout",
          "text": [
            "[==================================================] 100.0% 104.8/104.8MB downloaded\n"
          ]
        }
      ]
    },
    {
      "cell_type": "code",
      "source": [
        "model.most_similar(\"revolution\")"
      ],
      "metadata": {
        "colab": {
          "base_uri": "https://localhost:8080/"
        },
        "id": "MJTb6DRko7cK",
        "outputId": "8a7a678f-22ae-4895-ba2d-4983c347039f"
      },
      "execution_count": null,
      "outputs": [
        {
          "output_type": "execute_result",
          "data": {
            "text/plain": [
              "[('evolution', 0.8909556269645691),\n",
              " ('unity', 0.8880248665809631),\n",
              " ('movement', 0.8775877356529236),\n",
              " ('battle', 0.8746451139450073),\n",
              " ('freedom', 0.8738706707954407),\n",
              " ('survival', 0.873275101184845),\n",
              " ('alliance', 0.8701534271240234),\n",
              " ('youth', 0.8696491122245789),\n",
              " ('kingdom', 0.8695127367973328),\n",
              " ('action', 0.8598164319992065)]"
            ]
          },
          "metadata": {},
          "execution_count": 14
        }
      ]
    },
    {
      "cell_type": "code",
      "source": [
        "model.most_similar(positive=[\"toxic\", \"culture\"])"
      ],
      "metadata": {
        "colab": {
          "base_uri": "https://localhost:8080/"
        },
        "id": "3ANLmYfoAsZh",
        "outputId": "01768f7e-a5ba-46b6-d9ea-93cae0d00d88"
      },
      "execution_count": null,
      "outputs": [
        {
          "output_type": "execute_result",
          "data": {
            "text/plain": [
              "[('society', 0.9138774275779724),\n",
              " ('identity', 0.8922241926193237),\n",
              " ('substance', 0.8870078921318054),\n",
              " ('revolutionary', 0.881922721862793),\n",
              " ('attraction', 0.8811065554618835),\n",
              " ('human', 0.877650260925293),\n",
              " ('chemical', 0.8748683929443359),\n",
              " ('cult', 0.8721866011619568),\n",
              " ('influence', 0.8702458143234253),\n",
              " ('environment', 0.8671178817749023)]"
            ]
          },
          "metadata": {},
          "execution_count": 27
        }
      ]
    },
    {
      "cell_type": "code",
      "source": [
        "model.most_similar(positive=[\"revolution\", \"communism\"])"
      ],
      "metadata": {
        "colab": {
          "base_uri": "https://localhost:8080/"
        },
        "id": "v4U5EjMFPtIA",
        "outputId": "c7438293-db40-447d-ae09-43c95fcd61f4"
      },
      "execution_count": null,
      "outputs": [
        {
          "output_type": "execute_result",
          "data": {
            "text/plain": [
              "[('civilization', 0.9084575176239014),\n",
              " ('socialism', 0.9067416787147522),\n",
              " ('injustice', 0.9007073640823364),\n",
              " ('capitalism', 0.8937368392944336),\n",
              " ('tyranny', 0.888559877872467),\n",
              " ('liberty', 0.8849345445632935),\n",
              " ('democracy', 0.8829256892204285),\n",
              " ('brotherhood', 0.8823593854904175),\n",
              " ('evolution', 0.877929151058197),\n",
              " ('unity', 0.8702065944671631)]"
            ]
          },
          "metadata": {},
          "execution_count": 16
        }
      ]
    },
    {
      "cell_type": "code",
      "source": [
        "model.most_similar(positive=[\"revolution\", \"democracy\"])"
      ],
      "metadata": {
        "colab": {
          "base_uri": "https://localhost:8080/"
        },
        "id": "8dCXSBfLAYJd",
        "outputId": "1281d849-40e5-4c68-8a86-549181d3892d"
      },
      "execution_count": null,
      "outputs": [
        {
          "output_type": "execute_result",
          "data": {
            "text/plain": [
              "[('freedom', 0.9340818524360657),\n",
              " ('unity', 0.9302879571914673),\n",
              " ('liberty', 0.9205666184425354),\n",
              " ('youth', 0.8974720239639282),\n",
              " ('society', 0.8967186212539673),\n",
              " ('ministry', 0.8948692679405212),\n",
              " ('climate', 0.8894365429878235),\n",
              " ('movement', 0.8886800408363342),\n",
              " ('justice', 0.8874236345291138),\n",
              " ('equality', 0.886405885219574)]"
            ]
          },
          "metadata": {},
          "execution_count": 17
        }
      ]
    },
    {
      "cell_type": "code",
      "source": [
        "model.most_similar(\"revolution\", \"capitalism\")"
      ],
      "metadata": {
        "colab": {
          "base_uri": "https://localhost:8080/"
        },
        "id": "9NvQjet0AcYh",
        "outputId": "8fa8d717-743d-43c5-b515-4d04c8ebc66e"
      },
      "execution_count": null,
      "outputs": [
        {
          "output_type": "execute_result",
          "data": {
            "text/plain": [
              "[('نعلم', 0.7586116790771484),\n",
              " ('نقرأ', 0.7473956346511841),\n",
              " ('وبحمدهہ', 0.7385107278823853),\n",
              " ('girmeki̇çin', 0.7263745069503784),\n",
              " ('نجد', 0.7144610285758972),\n",
              " ('ح', 0.7061082720756531),\n",
              " ('تَهطل', 0.7046008110046387),\n",
              " ('نعرف', 0.7038830518722534),\n",
              " ('تَرتفع', 0.7033918499946594),\n",
              " ('اذن', 0.6993824243545532)]"
            ]
          },
          "metadata": {},
          "execution_count": 19
        }
      ]
    },
    {
      "cell_type": "code",
      "source": [
        "model.most_similar(positive=[\"revolution\", \"culture\"])"
      ],
      "metadata": {
        "colab": {
          "base_uri": "https://localhost:8080/"
        },
        "id": "8PdPu3TpoiG1",
        "outputId": "7a884fbe-cf3b-48e8-d310-675c7a436a08"
      },
      "execution_count": null,
      "outputs": [
        {
          "output_type": "execute_result",
          "data": {
            "text/plain": [
              "[('alliance', 0.9113930463790894),\n",
              " ('unity', 0.907804548740387),\n",
              " ('youth', 0.8999719619750977),\n",
              " ('society', 0.8994050621986389),\n",
              " ('innovation', 0.8912372589111328),\n",
              " ('community', 0.8906758427619934),\n",
              " ('evolution', 0.8879780173301697),\n",
              " ('action', 0.8879309296607971),\n",
              " ('movement', 0.8845652937889099),\n",
              " ('freedom', 0.8799054026603699)]"
            ]
          },
          "metadata": {},
          "execution_count": 9
        }
      ]
    },
    {
      "cell_type": "code",
      "source": [
        "model.most_similar(negative=[\"revolution\", \"economy\"])"
      ],
      "metadata": {
        "colab": {
          "base_uri": "https://localhost:8080/"
        },
        "id": "c9eD_6EXolQo",
        "outputId": "06f6ac5f-c402-4c6d-a158-f4ebec313d88"
      },
      "execution_count": null,
      "outputs": [
        {
          "output_type": "execute_result",
          "data": {
            "text/plain": [
              "[('뭔줄', 0.7758340239524841),\n",
              " ('と読んだあなたは立派な手遅れです', 0.7641984820365906),\n",
              " ('ا̄ﻟتدقيق', 0.7445411086082458),\n",
              " ('صرتي', 0.7435744404792786),\n",
              " ('صدقيني', 0.7341599464416504),\n",
              " ('ماقلتي', 0.7319658994674683),\n",
              " ('طلعتي', 0.7301316261291504),\n",
              " ('تجيبي', 0.7291411757469177),\n",
              " ('شغالتنا', 0.7289618849754333),\n",
              " ('تستحين', 0.7264242768287659)]"
            ]
          },
          "metadata": {},
          "execution_count": 15
        }
      ]
    },
    {
      "cell_type": "code",
      "source": [
        "model.most_similar(\"safety\")"
      ],
      "metadata": {
        "colab": {
          "base_uri": "https://localhost:8080/"
        },
        "id": "u51EWJTFQDSf",
        "outputId": "381af591-be15-4e9e-d324-22a3fddfc461"
      },
      "execution_count": null,
      "outputs": [
        {
          "output_type": "execute_result",
          "data": {
            "text/plain": [
              "[('security', 0.9146475195884705),\n",
              " ('system', 0.8958268761634827),\n",
              " ('emergency', 0.8956136703491211),\n",
              " ('insurance', 0.8946797847747803),\n",
              " ('authority', 0.8923043608665466),\n",
              " ('exchange', 0.8917413353919983),\n",
              " ('housing', 0.8842631578445435),\n",
              " ('firm', 0.8826082348823547),\n",
              " ('fuel', 0.8797727823257446),\n",
              " ('transportation', 0.8785573244094849)]"
            ]
          },
          "metadata": {},
          "execution_count": 6
        }
      ]
    },
    {
      "cell_type": "code",
      "source": [
        "model.most_similar(\"democracy\")"
      ],
      "metadata": {
        "colab": {
          "base_uri": "https://localhost:8080/"
        },
        "id": "rlL5BwcNQTLJ",
        "outputId": "a9a3bfb3-88ef-43fa-8d00-9d9738f79cb4"
      },
      "execution_count": null,
      "outputs": [
        {
          "output_type": "execute_result",
          "data": {
            "text/plain": [
              "[('equality', 0.9443174600601196),\n",
              " ('constitution', 0.9139459133148193),\n",
              " ('rights', 0.9129027128219604),\n",
              " ('laws', 0.9030388593673706),\n",
              " ('corruption', 0.9027149081230164),\n",
              " ('freedom', 0.9000719785690308),\n",
              " ('terrorism', 0.8970931172370911),\n",
              " ('capitalism', 0.8926240801811218),\n",
              " ('politics', 0.8925501108169556),\n",
              " ('liberty', 0.8894911408424377)]"
            ]
          },
          "metadata": {},
          "execution_count": 7
        }
      ]
    },
    {
      "cell_type": "code",
      "source": [
        "model.most_similar(\"expectation\")"
      ],
      "metadata": {
        "colab": {
          "base_uri": "https://localhost:8080/"
        },
        "id": "vaC_iNtzQZkw",
        "outputId": "0308d930-92a0-45d3-d7fb-b44cff0c0bec"
      },
      "execution_count": null,
      "outputs": [
        {
          "output_type": "execute_result",
          "data": {
            "text/plain": [
              "[('failures', 0.8792437314987183),\n",
              " ('expectations', 0.8721154928207397),\n",
              " ('reflect', 0.8715071678161621),\n",
              " ('shifting', 0.8613760471343994),\n",
              " ('determines', 0.8612112998962402),\n",
              " ('disappointment', 0.8576592206954956),\n",
              " ('sanity', 0.8550161123275757),\n",
              " ('successes', 0.8537998795509338),\n",
              " ('unspoken', 0.851111650466919),\n",
              " ('enthusiasm', 0.8494817018508911)]"
            ]
          },
          "metadata": {},
          "execution_count": 10
        }
      ]
    },
    {
      "cell_type": "code",
      "source": [
        "model.most_similar(\"destruction\")"
      ],
      "metadata": {
        "colab": {
          "base_uri": "https://localhost:8080/"
        },
        "id": "0vKPEv1-QgQ4",
        "outputId": "f25daa62-b16f-4cc7-cfa3-ee6aaaa8149f"
      },
      "execution_count": null,
      "outputs": [
        {
          "output_type": "execute_result",
          "data": {
            "text/plain": [
              "[('chaos', 0.8931648135185242),\n",
              " ('resilience', 0.8789915442466736),\n",
              " ('poverty', 0.8709478974342346),\n",
              " ('resistance', 0.8685317635536194),\n",
              " ('disaster', 0.8660988211631775),\n",
              " ('consciousness', 0.861703634262085),\n",
              " ('separation', 0.8612743616104126),\n",
              " ('execution', 0.8536827564239502),\n",
              " ('homelessness', 0.8503214716911316),\n",
              " ('violence', 0.8486353754997253)]"
            ]
          },
          "metadata": {},
          "execution_count": 11
        }
      ]
    },
    {
      "cell_type": "code",
      "source": [
        "model.most_similar(\"hostility\")"
      ],
      "metadata": {
        "colab": {
          "base_uri": "https://localhost:8080/"
        },
        "id": "XH6tEZdIQgc2",
        "outputId": "59f3e735-682a-48a4-97f9-b12931bbd406"
      },
      "execution_count": null,
      "outputs": [
        {
          "output_type": "execute_result",
          "data": {
            "text/plain": [
              "[('pettiness', 0.9551253914833069),\n",
              " ('foolishness', 0.9239675402641296),\n",
              " ('commotion', 0.9011290669441223),\n",
              " ('complicating', 0.8991186022758484),\n",
              " ('animosity', 0.8957096934318542),\n",
              " ('rudeness', 0.8705521821975708),\n",
              " ('spite', 0.8641389012336731),\n",
              " ('prolonging', 0.8629171252250671),\n",
              " ('causin', 0.8585201501846313),\n",
              " ('judgments', 0.8583417534828186)]"
            ]
          },
          "metadata": {},
          "execution_count": 12
        }
      ]
    },
    {
      "cell_type": "code",
      "source": [
        "from textblob import TextBlob"
      ],
      "metadata": {
        "id": "G3LDCJRCJKqv"
      },
      "execution_count": null,
      "outputs": []
    },
    {
      "cell_type": "code",
      "source": [
        "import nltk\n",
        "nltk.download('brown')"
      ],
      "metadata": {
        "colab": {
          "base_uri": "https://localhost:8080/"
        },
        "id": "whsWf-IwKBV6",
        "outputId": "8f942f40-3d40-4be9-e062-1a8d993b9159"
      },
      "execution_count": null,
      "outputs": [
        {
          "output_type": "stream",
          "name": "stderr",
          "text": [
            "[nltk_data] Downloading package brown to /root/nltk_data...\n",
            "[nltk_data]   Unzipping corpora/brown.zip.\n"
          ]
        },
        {
          "output_type": "execute_result",
          "data": {
            "text/plain": [
              "True"
            ]
          },
          "metadata": {},
          "execution_count": 2
        }
      ]
    },
    {
      "cell_type": "code",
      "source": [
        "nltk.download('punkt')"
      ],
      "metadata": {
        "colab": {
          "base_uri": "https://localhost:8080/"
        },
        "id": "uSYZ4zzh2K7x",
        "outputId": "8cbde3f7-1ed0-4257-f2f0-c8701652e07b"
      },
      "execution_count": null,
      "outputs": [
        {
          "output_type": "stream",
          "name": "stderr",
          "text": [
            "[nltk_data] Downloading package punkt to /root/nltk_data...\n",
            "[nltk_data]   Unzipping tokenizers/punkt.zip.\n"
          ]
        },
        {
          "output_type": "execute_result",
          "data": {
            "text/plain": [
              "True"
            ]
          },
          "metadata": {},
          "execution_count": 5
        }
      ]
    },
    {
      "cell_type": "code",
      "source": [
        "nltk.download('averaged_perceptron_tagger')"
      ],
      "metadata": {
        "colab": {
          "base_uri": "https://localhost:8080/"
        },
        "id": "tuS6uJMHKHB7",
        "outputId": "da3eb4ea-dfa9-44ac-ae99-fea30e5954ec"
      },
      "execution_count": null,
      "outputs": [
        {
          "output_type": "stream",
          "name": "stderr",
          "text": [
            "[nltk_data] Downloading package averaged_perceptron_tagger to\n",
            "[nltk_data]     /root/nltk_data...\n",
            "[nltk_data]   Unzipping taggers/averaged_perceptron_tagger.zip.\n"
          ]
        },
        {
          "output_type": "execute_result",
          "data": {
            "text/plain": [
              "True"
            ]
          },
          "metadata": {},
          "execution_count": 4
        }
      ]
    },
    {
      "cell_type": "code",
      "source": [
        "txt = \"\"\"the German Democratic Party\n",
        "to their younger members and friends!\n",
        "An unbelievably hard peace threatens the future of the German people. A devastating blow is planned against our political and economic life.\n",
        "Young men and women, your future is at stake! You will own the future Germany, in which you will live either as humans or as slaves.\n",
        "It is important that you work together to restore the ailing fatherland and that you believe in the right to exist and in the future of the German people.\n",
        "That is why you should above all collaborate in the economic reconstruction and in political life in the Reich, in the state and in the community. You mustn't be absent now that the new municipal council is being elected, for as in the Reich and in the state, the forms will now also be created in the municipality under which you and your national comrades will have a future\n",
        "strive and work. Young men and women promote the efforts of the German Democratic Party Stuttgart and elect their candidates!\n",
        "Your future is at stake\"\"\"\n",
        "sentences = nltk.sent_tokenize(txt)\n",
        "for word,pos in nltk.pos_tag(nltk.word_tokenize(str(sentences))):\n",
        "           if pos==\"VBP\":\n",
        "             print (word)"
      ],
      "metadata": {
        "colab": {
          "base_uri": "https://localhost:8080/"
        },
        "id": "cwtSivO5JN3K",
        "outputId": "436cd528-2743-4a46-fea4-62207e299020"
      },
      "execution_count": null,
      "outputs": [
        {
          "output_type": "stream",
          "name": "stdout",
          "text": [
            "work\n",
            "believe\n",
            "promote\n",
            "elect\n"
          ]
        }
      ]
    },
    {
      "cell_type": "code",
      "source": [
        "txt = \"\"\"To the folk comrades!\n",
        "The announcement of the general strike, which is so damaging to our entire economic life, also threatened a serious threat to public order and our government. The general strike was intended to serve its organizers as a means to overthrow the government that had grown out of the revolution. The dictatorship of a small part of the proletariat was intended to try to terrorize the overwhelming majority of the workers and bourgeoisie. Our national life would thus be led into unspeakable misery.\n",
        "\"\"\"\n",
        "sentences = nltk.sent_tokenize(txt)\n",
        "for word,pos in nltk.pos_tag(nltk.word_tokenize(str(sentences))):\n",
        "         if (pos == 'NN'):\n",
        "           print (word)"
      ],
      "metadata": {
        "colab": {
          "base_uri": "https://localhost:8080/"
        },
        "id": "yynF9hrBL7CY",
        "outputId": "486183c9-c494-4538-9afc-915fd839d69d"
      },
      "execution_count": null,
      "outputs": [
        {
          "output_type": "stream",
          "name": "stdout",
          "text": [
            "[\n",
            "folk\n",
            "announcement\n",
            "strike\n",
            "life\n",
            "threat\n",
            "order\n",
            "government\n",
            "strike\n",
            "means\n",
            "government\n",
            "revolution\n",
            "dictatorship\n",
            "part\n",
            "proletariat\n",
            "majority\n",
            "bourgeoisie\n",
            "life\n",
            "misery\n",
            "]\n"
          ]
        }
      ]
    },
    {
      "cell_type": "code",
      "source": [
        "import re\n",
        "import pandas as pd\n",
        "\n",
        "concept = 'revolution'\n",
        "text = ['Lets start a Revolution', 'what REVOLUTION are hou talking about?', \n",
        "        'my dad es tonto']\n",
        "df = pd.DataFrame({'comment':text})\n",
        "\n",
        "def text_detection(text, concept):\n",
        "  has_occurrence = False\n",
        "  if re.search(r\"\\b\" + re.escape(concept) + r\"\\b\", text.lower()):\n",
        "    has_occurrence = True\n",
        "  return has_occurrence\n",
        "\n",
        "df[f'has_{concept}'] = df['comment'].apply(lambda text: \n",
        "                                           text_detection(text, concept))\n",
        "\n",
        "df.head()"
      ],
      "metadata": {
        "id": "cTF-_9xHKjWc",
        "colab": {
          "base_uri": "https://localhost:8080/",
          "height": 143
        },
        "outputId": "1b9a8efe-eb25-41a6-cfc6-0100a6be9855"
      },
      "execution_count": null,
      "outputs": [
        {
          "output_type": "execute_result",
          "data": {
            "text/plain": [
              "                                  comment  has_revolution\n",
              "0                 Lets start a Revolution            True\n",
              "1  what REVOLUTION are hou talking about?            True\n",
              "2                         my dad es tonto           False"
            ],
            "text/html": [
              "\n",
              "  <div id=\"df-1f60a4ff-889d-4968-bbcd-e9c93638a0d4\">\n",
              "    <div class=\"colab-df-container\">\n",
              "      <div>\n",
              "<style scoped>\n",
              "    .dataframe tbody tr th:only-of-type {\n",
              "        vertical-align: middle;\n",
              "    }\n",
              "\n",
              "    .dataframe tbody tr th {\n",
              "        vertical-align: top;\n",
              "    }\n",
              "\n",
              "    .dataframe thead th {\n",
              "        text-align: right;\n",
              "    }\n",
              "</style>\n",
              "<table border=\"1\" class=\"dataframe\">\n",
              "  <thead>\n",
              "    <tr style=\"text-align: right;\">\n",
              "      <th></th>\n",
              "      <th>comment</th>\n",
              "      <th>has_revolution</th>\n",
              "    </tr>\n",
              "  </thead>\n",
              "  <tbody>\n",
              "    <tr>\n",
              "      <th>0</th>\n",
              "      <td>Lets start a Revolution</td>\n",
              "      <td>True</td>\n",
              "    </tr>\n",
              "    <tr>\n",
              "      <th>1</th>\n",
              "      <td>what REVOLUTION are hou talking about?</td>\n",
              "      <td>True</td>\n",
              "    </tr>\n",
              "    <tr>\n",
              "      <th>2</th>\n",
              "      <td>my dad es tonto</td>\n",
              "      <td>False</td>\n",
              "    </tr>\n",
              "  </tbody>\n",
              "</table>\n",
              "</div>\n",
              "      <button class=\"colab-df-convert\" onclick=\"convertToInteractive('df-1f60a4ff-889d-4968-bbcd-e9c93638a0d4')\"\n",
              "              title=\"Convert this dataframe to an interactive table.\"\n",
              "              style=\"display:none;\">\n",
              "        \n",
              "  <svg xmlns=\"http://www.w3.org/2000/svg\" height=\"24px\"viewBox=\"0 0 24 24\"\n",
              "       width=\"24px\">\n",
              "    <path d=\"M0 0h24v24H0V0z\" fill=\"none\"/>\n",
              "    <path d=\"M18.56 5.44l.94 2.06.94-2.06 2.06-.94-2.06-.94-.94-2.06-.94 2.06-2.06.94zm-11 1L8.5 8.5l.94-2.06 2.06-.94-2.06-.94L8.5 2.5l-.94 2.06-2.06.94zm10 10l.94 2.06.94-2.06 2.06-.94-2.06-.94-.94-2.06-.94 2.06-2.06.94z\"/><path d=\"M17.41 7.96l-1.37-1.37c-.4-.4-.92-.59-1.43-.59-.52 0-1.04.2-1.43.59L10.3 9.45l-7.72 7.72c-.78.78-.78 2.05 0 2.83L4 21.41c.39.39.9.59 1.41.59.51 0 1.02-.2 1.41-.59l7.78-7.78 2.81-2.81c.8-.78.8-2.07 0-2.86zM5.41 20L4 18.59l7.72-7.72 1.47 1.35L5.41 20z\"/>\n",
              "  </svg>\n",
              "      </button>\n",
              "      \n",
              "  <style>\n",
              "    .colab-df-container {\n",
              "      display:flex;\n",
              "      flex-wrap:wrap;\n",
              "      gap: 12px;\n",
              "    }\n",
              "\n",
              "    .colab-df-convert {\n",
              "      background-color: #E8F0FE;\n",
              "      border: none;\n",
              "      border-radius: 50%;\n",
              "      cursor: pointer;\n",
              "      display: none;\n",
              "      fill: #1967D2;\n",
              "      height: 32px;\n",
              "      padding: 0 0 0 0;\n",
              "      width: 32px;\n",
              "    }\n",
              "\n",
              "    .colab-df-convert:hover {\n",
              "      background-color: #E2EBFA;\n",
              "      box-shadow: 0px 1px 2px rgba(60, 64, 67, 0.3), 0px 1px 3px 1px rgba(60, 64, 67, 0.15);\n",
              "      fill: #174EA6;\n",
              "    }\n",
              "\n",
              "    [theme=dark] .colab-df-convert {\n",
              "      background-color: #3B4455;\n",
              "      fill: #D2E3FC;\n",
              "    }\n",
              "\n",
              "    [theme=dark] .colab-df-convert:hover {\n",
              "      background-color: #434B5C;\n",
              "      box-shadow: 0px 1px 3px 1px rgba(0, 0, 0, 0.15);\n",
              "      filter: drop-shadow(0px 1px 2px rgba(0, 0, 0, 0.3));\n",
              "      fill: #FFFFFF;\n",
              "    }\n",
              "  </style>\n",
              "\n",
              "      <script>\n",
              "        const buttonEl =\n",
              "          document.querySelector('#df-1f60a4ff-889d-4968-bbcd-e9c93638a0d4 button.colab-df-convert');\n",
              "        buttonEl.style.display =\n",
              "          google.colab.kernel.accessAllowed ? 'block' : 'none';\n",
              "\n",
              "        async function convertToInteractive(key) {\n",
              "          const element = document.querySelector('#df-1f60a4ff-889d-4968-bbcd-e9c93638a0d4');\n",
              "          const dataTable =\n",
              "            await google.colab.kernel.invokeFunction('convertToInteractive',\n",
              "                                                     [key], {});\n",
              "          if (!dataTable) return;\n",
              "\n",
              "          const docLinkHtml = 'Like what you see? Visit the ' +\n",
              "            '<a target=\"_blank\" href=https://colab.research.google.com/notebooks/data_table.ipynb>data table notebook</a>'\n",
              "            + ' to learn more about interactive tables.';\n",
              "          element.innerHTML = '';\n",
              "          dataTable['output_type'] = 'display_data';\n",
              "          await google.colab.output.renderOutput(dataTable, element);\n",
              "          const docLink = document.createElement('div');\n",
              "          docLink.innerHTML = docLinkHtml;\n",
              "          element.appendChild(docLink);\n",
              "        }\n",
              "      </script>\n",
              "    </div>\n",
              "  </div>\n",
              "  "
            ]
          },
          "metadata": {},
          "execution_count": 8
        }
      ]
    },
    {
      "cell_type": "code",
      "source": [
        "df[df.has_revolution]"
      ],
      "metadata": {
        "colab": {
          "base_uri": "https://localhost:8080/",
          "height": 112
        },
        "id": "Ne7jkzvyZlRA",
        "outputId": "970464b3-ddb2-4625-df99-bafb9d2e6176"
      },
      "execution_count": null,
      "outputs": [
        {
          "output_type": "execute_result",
          "data": {
            "text/plain": [
              "                                  comment  has_revolution\n",
              "0                 Lets start a Revolution            True\n",
              "1  what REVOLUTION are hou talking about?            True"
            ],
            "text/html": [
              "\n",
              "  <div id=\"df-3ac0d61b-f547-4de3-94b5-aff7a80dc036\">\n",
              "    <div class=\"colab-df-container\">\n",
              "      <div>\n",
              "<style scoped>\n",
              "    .dataframe tbody tr th:only-of-type {\n",
              "        vertical-align: middle;\n",
              "    }\n",
              "\n",
              "    .dataframe tbody tr th {\n",
              "        vertical-align: top;\n",
              "    }\n",
              "\n",
              "    .dataframe thead th {\n",
              "        text-align: right;\n",
              "    }\n",
              "</style>\n",
              "<table border=\"1\" class=\"dataframe\">\n",
              "  <thead>\n",
              "    <tr style=\"text-align: right;\">\n",
              "      <th></th>\n",
              "      <th>comment</th>\n",
              "      <th>has_revolution</th>\n",
              "    </tr>\n",
              "  </thead>\n",
              "  <tbody>\n",
              "    <tr>\n",
              "      <th>0</th>\n",
              "      <td>Lets start a Revolution</td>\n",
              "      <td>True</td>\n",
              "    </tr>\n",
              "    <tr>\n",
              "      <th>1</th>\n",
              "      <td>what REVOLUTION are hou talking about?</td>\n",
              "      <td>True</td>\n",
              "    </tr>\n",
              "  </tbody>\n",
              "</table>\n",
              "</div>\n",
              "      <button class=\"colab-df-convert\" onclick=\"convertToInteractive('df-3ac0d61b-f547-4de3-94b5-aff7a80dc036')\"\n",
              "              title=\"Convert this dataframe to an interactive table.\"\n",
              "              style=\"display:none;\">\n",
              "        \n",
              "  <svg xmlns=\"http://www.w3.org/2000/svg\" height=\"24px\"viewBox=\"0 0 24 24\"\n",
              "       width=\"24px\">\n",
              "    <path d=\"M0 0h24v24H0V0z\" fill=\"none\"/>\n",
              "    <path d=\"M18.56 5.44l.94 2.06.94-2.06 2.06-.94-2.06-.94-.94-2.06-.94 2.06-2.06.94zm-11 1L8.5 8.5l.94-2.06 2.06-.94-2.06-.94L8.5 2.5l-.94 2.06-2.06.94zm10 10l.94 2.06.94-2.06 2.06-.94-2.06-.94-.94-2.06-.94 2.06-2.06.94z\"/><path d=\"M17.41 7.96l-1.37-1.37c-.4-.4-.92-.59-1.43-.59-.52 0-1.04.2-1.43.59L10.3 9.45l-7.72 7.72c-.78.78-.78 2.05 0 2.83L4 21.41c.39.39.9.59 1.41.59.51 0 1.02-.2 1.41-.59l7.78-7.78 2.81-2.81c.8-.78.8-2.07 0-2.86zM5.41 20L4 18.59l7.72-7.72 1.47 1.35L5.41 20z\"/>\n",
              "  </svg>\n",
              "      </button>\n",
              "      \n",
              "  <style>\n",
              "    .colab-df-container {\n",
              "      display:flex;\n",
              "      flex-wrap:wrap;\n",
              "      gap: 12px;\n",
              "    }\n",
              "\n",
              "    .colab-df-convert {\n",
              "      background-color: #E8F0FE;\n",
              "      border: none;\n",
              "      border-radius: 50%;\n",
              "      cursor: pointer;\n",
              "      display: none;\n",
              "      fill: #1967D2;\n",
              "      height: 32px;\n",
              "      padding: 0 0 0 0;\n",
              "      width: 32px;\n",
              "    }\n",
              "\n",
              "    .colab-df-convert:hover {\n",
              "      background-color: #E2EBFA;\n",
              "      box-shadow: 0px 1px 2px rgba(60, 64, 67, 0.3), 0px 1px 3px 1px rgba(60, 64, 67, 0.15);\n",
              "      fill: #174EA6;\n",
              "    }\n",
              "\n",
              "    [theme=dark] .colab-df-convert {\n",
              "      background-color: #3B4455;\n",
              "      fill: #D2E3FC;\n",
              "    }\n",
              "\n",
              "    [theme=dark] .colab-df-convert:hover {\n",
              "      background-color: #434B5C;\n",
              "      box-shadow: 0px 1px 3px 1px rgba(0, 0, 0, 0.15);\n",
              "      filter: drop-shadow(0px 1px 2px rgba(0, 0, 0, 0.3));\n",
              "      fill: #FFFFFF;\n",
              "    }\n",
              "  </style>\n",
              "\n",
              "      <script>\n",
              "        const buttonEl =\n",
              "          document.querySelector('#df-3ac0d61b-f547-4de3-94b5-aff7a80dc036 button.colab-df-convert');\n",
              "        buttonEl.style.display =\n",
              "          google.colab.kernel.accessAllowed ? 'block' : 'none';\n",
              "\n",
              "        async function convertToInteractive(key) {\n",
              "          const element = document.querySelector('#df-3ac0d61b-f547-4de3-94b5-aff7a80dc036');\n",
              "          const dataTable =\n",
              "            await google.colab.kernel.invokeFunction('convertToInteractive',\n",
              "                                                     [key], {});\n",
              "          if (!dataTable) return;\n",
              "\n",
              "          const docLinkHtml = 'Like what you see? Visit the ' +\n",
              "            '<a target=\"_blank\" href=https://colab.research.google.com/notebooks/data_table.ipynb>data table notebook</a>'\n",
              "            + ' to learn more about interactive tables.';\n",
              "          element.innerHTML = '';\n",
              "          dataTable['output_type'] = 'display_data';\n",
              "          await google.colab.output.renderOutput(dataTable, element);\n",
              "          const docLink = document.createElement('div');\n",
              "          docLink.innerHTML = docLinkHtml;\n",
              "          element.appendChild(docLink);\n",
              "        }\n",
              "      </script>\n",
              "    </div>\n",
              "  </div>\n",
              "  "
            ]
          },
          "metadata": {},
          "execution_count": 10
        }
      ]
    }
  ]
}